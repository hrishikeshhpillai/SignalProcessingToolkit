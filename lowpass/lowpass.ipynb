{
 "cells": [
  {
   "cell_type": "code",
   "execution_count": 4,
   "id": "7514e597-963d-4a9a-aaf7-f59c07003440",
   "metadata": {},
   "outputs": [],
   "source": [
    "from scipy import signal\n",
    "import numpy as np"
   ]
  },
  {
   "cell_type": "code",
   "execution_count": 6,
   "id": "cf69f70b-cf03-4e1c-839b-310d3a3a7f91",
   "metadata": {},
   "outputs": [],
   "source": [
    "w0 = 2*np.pi*5\n",
    "num = w0\n",
    "den = [1, w0]\n",
    "lowpass = signal.TransferFunction(num, den)"
   ]
  },
  {
   "cell_type": "code",
   "execution_count": 7,
   "id": "bf9a49ac-346f-47e4-ac31-0457ca22cb37",
   "metadata": {},
   "outputs": [
    {
     "name": "stdout",
     "output_type": "stream",
     "text": [
      "TransferFunctionContinuous(\n",
      "array([31.41592654]),\n",
      "array([ 1.        , 31.41592654]),\n",
      "dt: None\n",
      ")\n"
     ]
    }
   ],
   "source": [
    "print(lowpass)"
   ]
  },
  {
   "cell_type": "code",
   "execution_count": 8,
   "id": "4f3c59d7-2df0-455c-ad43-3adbc5f9a6ff",
   "metadata": {},
   "outputs": [],
   "source": [
    "dt = 1.0/1000.0 #sampling frequency of 1kHz\n",
    "discreteLowPass = lowpass.to_discrete(dt, method='gbt', alpha = 0.5)"
   ]
  },
  {
   "cell_type": "code",
   "execution_count": 9,
   "id": "9ec19af3-9c2b-4527-9b00-f0380ca1351c",
   "metadata": {},
   "outputs": [
    {
     "name": "stdout",
     "output_type": "stream",
     "text": [
      "TransferFunctionDiscrete(\n",
      "array([0.01546504, 0.01546504]),\n",
      "array([ 1.        , -0.96906992]),\n",
      "dt: 0.001\n",
      ")\n"
     ]
    }
   ],
   "source": [
    "print(discreteLowPass)"
   ]
  },
  {
   "cell_type": "code",
   "execution_count": null,
   "id": "ddc82075-bdea-4317-999a-244aa40ca345",
   "metadata": {},
   "outputs": [],
   "source": [
    "b = discreteLowPass.num\n",
    "a = -discreteLowPass.den\n",
    "print(\"Filter coefficients b_i\" + str(b))\n",
    "print(\"Filter"
   ]
  }
 ],
 "metadata": {
  "kernelspec": {
   "display_name": "Python 3 (ipykernel)",
   "language": "python",
   "name": "python3"
  },
  "language_info": {
   "codemirror_mode": {
    "name": "ipython",
    "version": 3
   },
   "file_extension": ".py",
   "mimetype": "text/x-python",
   "name": "python",
   "nbconvert_exporter": "python",
   "pygments_lexer": "ipython3",
   "version": "3.13.2"
  }
 },
 "nbformat": 4,
 "nbformat_minor": 5
}
